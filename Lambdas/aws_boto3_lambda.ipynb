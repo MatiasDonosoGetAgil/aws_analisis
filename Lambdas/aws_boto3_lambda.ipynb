{
 "cells": [
  {
   "cell_type": "code",
   "execution_count": null,
   "metadata": {
    "vscode": {
     "languageId": "shellscript"
    }
   },
   "outputs": [],
   "source": [
    "pip install rich boto3 pandas"
   ]
  },
  {
   "cell_type": "code",
   "execution_count": 14,
   "metadata": {},
   "outputs": [],
   "source": [
    "import boto3\n",
    "from rich import print\n",
    "import pandas as pd\n",
    "from datetime import datetime, timedelta\n",
    "\n",
    "# Creamos el cliente de Lambda en la región us-east-1 (Virginia)\n",
    "lambda_client = boto3.client('lambda', region_name='us-east-1')\n",
    "cloudwatch_client = boto3.client('cloudwatch', region_name='us-east-1')\n",
    "\n",
    "# Definimos la ventana de tiempo de los últimos 3 meses\n",
    "fin = datetime.now()\n",
    "inicio = fin - timedelta(days=90)\n",
    "\n"
   ]
  },
  {
   "cell_type": "code",
   "execution_count": 15,
   "metadata": {},
   "outputs": [],
   "source": [
    "# Obtenemos la lista de funciones Lambda\n",
    "respuesta = lambda_client.list_functions()\n",
    "# print(respuesta)"
   ]
  },
  {
   "cell_type": "code",
   "execution_count": 53,
   "metadata": {},
   "outputs": [],
   "source": [
    "\n",
    "# Revisamos cada función para ver si ha tenido invocaciones en los últimos 3 meses\n",
    "invocaciones = []\n",
    "datos = []\n",
    "# Obtenemos todas las funciones Lambda usando paginación\n",
    "paginator = lambda_client.get_paginator('list_functions')\n",
    "for pagina in paginator.paginate():\n",
    "    for funcion in pagina.get('Functions', []):\n",
    "        nombre_funcion = funcion['FunctionName']\n",
    "        estadisticas = cloudwatch_client.get_metric_statistics(\n",
    "            Namespace='AWS/Lambda',\n",
    "            MetricName='Invocations',\n",
    "            Dimensions=[{'Name': 'FunctionName', 'Value': nombre_funcion}],\n",
    "            StartTime=inicio,\n",
    "            EndTime=fin,\n",
    "            Period=3600 * 24,\n",
    "            Statistics=['Sum']\n",
    "        )\n",
    "        total_invocaciones = sum(dp['Sum'] for dp in estadisticas.get('Datapoints', []))\n",
    "        if total_invocaciones > 0:\n",
    "            datos.append(estadisticas)\n",
    "        invocaciones.append({\n",
    "            \"FunctionName\": nombre_funcion,\n",
    "            \"Invocaciones\": total_invocaciones\n",
    "        })\n",
    "\n",
    "lambdas_totales_df = pd.DataFrame(invocaciones)\n",
    "lambdas_data = pd.DataFrame(datos)\n"
   ]
  },
  {
   "cell_type": "code",
   "execution_count": 54,
   "metadata": {},
   "outputs": [
    {
     "data": {
      "text/html": [
       "<pre style=\"white-space:pre;overflow-x:auto;line-height:normal;font-family:Menlo,'DejaVu Sans Mono',consolas,'Courier New',monospace\">\n",
       "Funciones Lambda sin invocaciones en los últimos <span style=\"color: #008080; text-decoration-color: #008080; font-weight: bold\">3</span> meses:        <span style=\"color: #008080; text-decoration-color: #008080; font-weight: bold\">305</span> <span style=\"color: #800080; text-decoration-color: #800080\">/</span> <span style=\"color: #008080; text-decoration-color: #008080; font-weight: bold\">623</span>\n",
       "</pre>\n"
      ],
      "text/plain": [
       "\n",
       "Funciones Lambda sin invocaciones en los últimos \u001b[1;36m3\u001b[0m meses:        \u001b[1;36m305\u001b[0m \u001b[35m/\u001b[0m \u001b[1;36m623\u001b[0m\n"
      ]
     },
     "metadata": {},
     "output_type": "display_data"
    },
    {
     "data": {
      "text/html": [
       "<pre style=\"white-space:pre;overflow-x:auto;line-height:normal;font-family:Menlo,'DejaVu Sans Mono',consolas,'Courier New',monospace\">                                     FunctionName  Invocaciones\n",
       "<span style=\"color: #008080; text-decoration-color: #008080; font-weight: bold\">1</span>      prod-socket-services-v1-prod-getAllUser_v1           <span style=\"color: #008080; text-decoration-color: #008080; font-weight: bold\">0.0</span>\n",
       "<span style=\"color: #008080; text-decoration-color: #008080; font-weight: bold\">3</span>          prod-socket-services-prod-testSocketDB           <span style=\"color: #008080; text-decoration-color: #008080; font-weight: bold\">0.0</span>\n",
       "<span style=\"color: #008080; text-decoration-color: #008080; font-weight: bold\">4</span>                                  3n89q29-2s1zkk           <span style=\"color: #008080; text-decoration-color: #008080; font-weight: bold\">0.0</span>\n",
       "<span style=\"color: #008080; text-decoration-color: #008080; font-weight: bold\">6</span>                                      testInvoke           <span style=\"color: #008080; text-decoration-color: #008080; font-weight: bold\">0.0</span>\n",
       "<span style=\"color: #008080; text-decoration-color: #008080; font-weight: bold\">7</span>                     super-prod-updateBranchRate           <span style=\"color: #008080; text-decoration-color: #008080; font-weight: bold\">0.0</span>\n",
       "..                                            <span style=\"color: #808000; text-decoration-color: #808000\">...</span>           <span style=\"color: #808000; text-decoration-color: #808000\">...</span>\n",
       "<span style=\"color: #008080; text-decoration-color: #008080; font-weight: bold\">615</span>      prod-socket-services-prod-cancelTransfer           <span style=\"color: #008080; text-decoration-color: #008080; font-weight: bold\">0.0</span>\n",
       "<span style=\"color: #008080; text-decoration-color: #008080; font-weight: bold\">617</span>                   admin-prod-deleteTrabajador           <span style=\"color: #008080; text-decoration-color: #008080; font-weight: bold\">0.0</span>\n",
       "<span style=\"color: #008080; text-decoration-color: #008080; font-weight: bold\">618</span>                 super-prod-updatePlanSucursal           <span style=\"color: #008080; text-decoration-color: #008080; font-weight: bold\">0.0</span>\n",
       "<span style=\"color: #008080; text-decoration-color: #008080; font-weight: bold\">621</span>  prod-socket-services-prod-setOrderFeeCourier           <span style=\"color: #008080; text-decoration-color: #008080; font-weight: bold\">0.0</span>\n",
       "<span style=\"color: #008080; text-decoration-color: #008080; font-weight: bold\">622</span>                      rider-prod-registerRider           <span style=\"color: #008080; text-decoration-color: #008080; font-weight: bold\">0.0</span>\n",
       "\n",
       "<span style=\"font-weight: bold\">[</span><span style=\"color: #008080; text-decoration-color: #008080; font-weight: bold\">305</span> rows x <span style=\"color: #008080; text-decoration-color: #008080; font-weight: bold\">2</span> columns<span style=\"font-weight: bold\">]</span>\n",
       "</pre>\n"
      ],
      "text/plain": [
       "                                     FunctionName  Invocaciones\n",
       "\u001b[1;36m1\u001b[0m      prod-socket-services-v1-prod-getAllUser_v1           \u001b[1;36m0.0\u001b[0m\n",
       "\u001b[1;36m3\u001b[0m          prod-socket-services-prod-testSocketDB           \u001b[1;36m0.0\u001b[0m\n",
       "\u001b[1;36m4\u001b[0m                                  3n89q29-2s1zkk           \u001b[1;36m0.0\u001b[0m\n",
       "\u001b[1;36m6\u001b[0m                                      testInvoke           \u001b[1;36m0.0\u001b[0m\n",
       "\u001b[1;36m7\u001b[0m                     super-prod-updateBranchRate           \u001b[1;36m0.0\u001b[0m\n",
       "..                                            \u001b[33m...\u001b[0m           \u001b[33m...\u001b[0m\n",
       "\u001b[1;36m615\u001b[0m      prod-socket-services-prod-cancelTransfer           \u001b[1;36m0.0\u001b[0m\n",
       "\u001b[1;36m617\u001b[0m                   admin-prod-deleteTrabajador           \u001b[1;36m0.0\u001b[0m\n",
       "\u001b[1;36m618\u001b[0m                 super-prod-updatePlanSucursal           \u001b[1;36m0.0\u001b[0m\n",
       "\u001b[1;36m621\u001b[0m  prod-socket-services-prod-setOrderFeeCourier           \u001b[1;36m0.0\u001b[0m\n",
       "\u001b[1;36m622\u001b[0m                      rider-prod-registerRider           \u001b[1;36m0.0\u001b[0m\n",
       "\n",
       "\u001b[1m[\u001b[0m\u001b[1;36m305\u001b[0m rows x \u001b[1;36m2\u001b[0m columns\u001b[1m]\u001b[0m\n"
      ]
     },
     "metadata": {},
     "output_type": "display_data"
    }
   ],
   "source": [
    "# Filtramos las funciones Lambda que no tienen invocaciones\n",
    "lambdas_sin_uso = lambdas_totales_df[lambdas_totales_df['Invocaciones'] == 0]\n",
    "\n",
    "print(f\"\\nFunciones Lambda sin invocaciones en los últimos 3 meses: \\t {len(lambdas_sin_uso)} / {len(lambdas_totales_df)}\")\n",
    "print(lambdas_sin_uso)\n"
   ]
  },
  {
   "cell_type": "code",
   "execution_count": 52,
   "metadata": {},
   "outputs": [],
   "source": [
    "# Guardamos los nombres de las funciones con invocaciones en un CSV\n",
    "lambdas_totales_df.sort_values(by='Invocaciones', ascending=False).to_csv('lambdas_invocadas.csv', index=False)"
   ]
  },
  {
   "cell_type": "code",
   "execution_count": null,
   "metadata": {},
   "outputs": [],
   "source": [
    "# Calculamos la suma total de invocaciones\n",
    "total_invocaciones = lambdas_totales_df['Invocaciones'].sum()\n",
    "\n",
    "print(f\"\\nTotal de invocaciones de todas las funciones Lambda: {total_invocaciones:,.0f}\")\n",
    "\n",
    "# Obtenemos configuración y tiempo de uso de las funciones con invocaciones\n",
    "tiempo_total = 0\n",
    "memoria_total = 0\n",
    "for funcion in lambdas_totales_df[lambdas_totales_df['Invocaciones'] > 0]['FunctionName']:\n",
    "    # Obtenemos configuración\n",
    "    config = lambda_client.get_function_configuration(FunctionName=funcion)\n",
    "    memoria = config['MemorySize']\n",
    "    timeout = config['Timeout']\n",
    "    \n",
    "    # Calculamos tiempo de ejecución total\n",
    "    metricas_duracion = cloudwatch_client.get_metric_statistics(\n",
    "        Namespace='AWS/Lambda',\n",
    "        MetricName='Duration',\n",
    "        Dimensions=[{'Name': 'FunctionName', 'Value': funcion}],\n",
    "        StartTime=inicio,\n",
    "        EndTime=fin,\n",
    "        Period=3600*24,\n",
    "        Statistics=['Average', 'Sum']\n",
    "    )\n",
    "    \n",
    "    if metricas_duracion['Datapoints']:\n",
    "        tiempo_total += sum(dp['Sum'] for dp in metricas_duracion['Datapoints'])\n",
    "        memoria_total += memoria\n",
    "# Guardamos los resultados en un CSV\n",
    "resultados = pd.DataFrame({\n",
    "    'Metrica': ['Tiempo total de ejecución (segundos)', 'Memoria total configurada (MB)'],\n",
    "    'Valor': [tiempo_total/1000, memoria_total]\n",
    "})\n",
    "resultados.to_csv('metricas_lambda.csv', index=False)\n"
   ]
  },
  {
   "cell_type": "code",
   "execution_count": 47,
   "metadata": {},
   "outputs": [],
   "source": [
    "lambdas_sin_uso[\"FunctionName\"].sort_values().to_csv('lambdas_sin_uso.csv', index=False, header=False)"
   ]
  }
 ],
 "metadata": {
  "kernelspec": {
   "display_name": ".venv",
   "language": "python",
   "name": "python3"
  },
  "language_info": {
   "codemirror_mode": {
    "name": "ipython",
    "version": 3
   },
   "file_extension": ".py",
   "mimetype": "text/x-python",
   "name": "python",
   "nbconvert_exporter": "python",
   "pygments_lexer": "ipython3",
   "version": "3.12.3"
  }
 },
 "nbformat": 4,
 "nbformat_minor": 2
}
